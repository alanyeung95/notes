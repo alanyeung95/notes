{
  "nbformat": 4,
  "nbformat_minor": 0,
  "metadata": {
    "colab": {
      "name": "multiplication.ipynb",
      "provenance": []
    },
    "kernelspec": {
      "name": "python3",
      "display_name": "Python 3"
    },
    "language_info": {
      "name": "python"
    }
  },
  "cells": [
    {
      "cell_type": "code",
      "execution_count": 5,
      "metadata": {
        "colab": {
          "base_uri": "https://localhost:8080/"
        },
        "id": "C8cu8s2SFWB9",
        "outputId": "0ba85b14-9051-4b0c-e7c8-ff6c085bd40a"
      },
      "outputs": [
        {
          "output_type": "stream",
          "name": "stdout",
          "text": [
            "Epoch 1/10\n",
            "10000/10000 [==============================] - 14s 1ms/step - loss: 0.0038 - mae: 0.0407\n",
            "Epoch 2/10\n",
            "10000/10000 [==============================] - 13s 1ms/step - loss: 0.0015 - mae: 0.0284\n",
            "Epoch 3/10\n",
            "10000/10000 [==============================] - 13s 1ms/step - loss: 1.0224e-04 - mae: 0.0078\n",
            "Epoch 4/10\n",
            "10000/10000 [==============================] - 12s 1ms/step - loss: 6.7957e-05 - mae: 0.0065\n",
            "Epoch 5/10\n",
            "10000/10000 [==============================] - 13s 1ms/step - loss: 5.2200e-05 - mae: 0.0055\n",
            "Epoch 6/10\n",
            "10000/10000 [==============================] - 13s 1ms/step - loss: 3.5733e-05 - mae: 0.0046\n",
            "Epoch 7/10\n",
            "10000/10000 [==============================] - 13s 1ms/step - loss: 3.4362e-05 - mae: 0.0044\n",
            "Epoch 8/10\n",
            "10000/10000 [==============================] - 12s 1ms/step - loss: 3.0326e-05 - mae: 0.0042\n",
            "Epoch 9/10\n",
            "10000/10000 [==============================] - 12s 1ms/step - loss: 2.8748e-05 - mae: 0.0040\n",
            "Epoch 10/10\n",
            "10000/10000 [==============================] - 12s 1ms/step - loss: 2.7345e-05 - mae: 0.0039\n"
          ]
        },
        {
          "output_type": "execute_result",
          "data": {
            "text/plain": [
              "array([[  0.3976926],\n",
              "       [  2.6223853],\n",
              "       [ 15.504482 ],\n",
              "       [159.50838  ]], dtype=float32)"
            ]
          },
          "metadata": {},
          "execution_count": 5
        }
      ],
      "source": [
        "import numpy as np\n",
        "import tensorflow as tf\n",
        "from tensorflow import keras\n",
        "\n",
        "np.set_printoptions(suppress=True)\n",
        "\n",
        "model = keras.Sequential([\n",
        "    keras.layers.Flatten(input_shape=(2,)),\n",
        "    keras.layers.Dense(20, activation=tf.nn.relu),\n",
        "    keras.layers.Dense(1)\n",
        "])\n",
        "\n",
        "data =  np.random.random((10000, 2)) \n",
        "results = np.asarray([a * b for a, b in data]) \n",
        "\n",
        "model.compile(optimizer='adam',\n",
        "                  loss='mse',\n",
        "              metrics=['mae'])\n",
        "\n",
        "model.fit(data, results, epochs=10, batch_size=1)\n",
        "model.predict([[0.8, 0.5],[2,2],[10,10],[100,100]])"
      ]
    },
    {
      "cell_type": "code",
      "source": [
        ""
      ],
      "metadata": {
        "id": "JWedsB4IFgfU"
      },
      "execution_count": null,
      "outputs": []
    }
  ]
}